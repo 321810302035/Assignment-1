{
 "cells": [
  {
   "cell_type": "code",
   "execution_count": null,
   "metadata": {},
   "outputs": [],
   "source": [
    "# This function adds two numbers\n",
    "def add(x, y):\n",
    "    return x + y\n",
    "\n",
    "# This function subtracts two numbers\n",
    "def subtract(x, y):\n",
    "    return x - y\n",
    "\n",
    "# This function multiplies two numbers\n",
    "def multiply(x, y):\n",
    "    return x * y\n",
    "\n",
    "# This function divides two numbers\n",
    "def divide(x, y):\n",
    "    return x / y\n",
    "\n",
    "\n",
    "print(\"Select operation.\")\n",
    "print(\"1.Add\")\n",
    "print(\"2.Subtract\")\n",
    "print(\"3.Multiply\")\n",
    "print(\"4.Divide\")\n",
    "\n",
    "while True:\n",
    "    # Take input from the user\n",
    "    choice = input(\"Enter choice(1/2/3/4): \")\n",
    "\n",
    "    # Check if choice is one of the four options\n",
    "    if choice in ('1', '2', '3', '4'):\n",
    "        num1 = float(input(\"Enter first number: \"))\n",
    "        num2 = float(input(\"Enter second number: \"))\n",
    "\n",
    "        if choice == '1':\n",
    "            print(num1, \"+\", num2, \"=\", add(num1, num2))\n",
    "\n",
    "        elif choice == '2':\n",
    "            print(num1, \"-\", num2, \"=\", subtract(num1, num2))\n",
    "\n",
    "        elif choice == '3':\n",
    "            print(num1, \"*\", num2, \"=\", multiply(num1, num2))\n",
    "\n",
    "        elif choice == '4':\n",
    "            print(num1, \"/\", num2, \"=\", divide(num1, num2))\n",
    "        break\n",
    "    else:\n",
    "        print(\"Invalid Input\")\n"
   ]
  },
  {
   "cell_type": "code",
   "execution_count": null,
   "metadata": {},
   "outputs": [],
   "source": [
    "princ_amount = float(input(\" Please Enter the Principal Amount : \"))\n",
    "rate_of_int = float(input(\" Please Enter the Rate Of Interest   : \"))\n",
    "time_period = float(input(\" Please Enter Time period in Years   : \"))\n",
    "\n",
    "simple_interest = (princ_amount * rate_of_int * time_period) / 100\n",
    "\n",
    "print(\"\\nSimple Interest for Principal Amount {0} = {1}\".format(princ_amount, simple_interest))"
   ]
  },
  {
   "cell_type": "code",
   "execution_count": null,
   "metadata": {},
   "outputs": [],
   "source": [
    "PI = 3.14\n",
    "radius = float(input(' Please Enter the radius of a circle: '))\n",
    "area = PI * radius * radius\n",
    "circumference = 2 * PI * radius\n",
    "\n",
    "print(\" Area Of a Circle = %.2f\" %area)\n",
    "print(\" Circumference Of a Circle = %.2f\" %circumference)\n"
   ]
  },
  {
   "cell_type": "code",
   "execution_count": null,
   "metadata": {},
   "outputs": [],
   "source": [
    "\n",
    "a = float(input('Please Enter the First side of a Triangle: '))\n",
    "b = float(input('Please Enter the Second side of a Triangle: '))\n",
    "c = float(input('Please Enter the Third side of a Triangle: '))\n",
    "\n",
    "# calculate the Perimeter\n",
    "Perimeter = a + b + c\n",
    "\n",
    "# calculate the semi-perimeter\n",
    "s = (a + b + c) / 2\n",
    "\n",
    "# calculate the area\n",
    "Area = (s*(s-a)*(s-b)*(s-c)) ** 0.5\n",
    "\n",
    "print(\"\\n The Perimeter of Traiangle = %.2f\" %Perimeter);\n",
    "print(\" The Semi Perimeter of Traiangle = %.2f\" %s);\n",
    "print(\" The Area of a Triangle is %0.2f\" %Area)"
   ]
  },
  {
   "cell_type": "code",
   "execution_count": null,
   "metadata": {},
   "outputs": [],
   "source": [
    "temperature = float(input(\"Please enter temperature in fahrenheit:\"))\n",
    "celsius = (temperature - 32) * 5 / 9\n",
    "print(\"Temperature in celsius: \" , celsius)\n"
   ]
  },
  {
   "cell_type": "code",
   "execution_count": null,
   "metadata": {},
   "outputs": [],
   "source": [
    "width = float(input('Please Enter the Width of a Rectangle: '))\n",
    "height = float(input('Please Enter the Height of a Rectangle: '))\n",
    "\n",
    "# calculate the area\n",
    "Area = width * height\n",
    "\n",
    "# calculate the Perimeter\n",
    "Perimeter = 2 * (width + height)\n",
    "\n",
    "print(\"\\n Area of a Rectangle is: %.2f\" %Area)\n",
    "print(\" Perimeter of Rectangle is: %.2f\" %Perimeter"
   ]
  },
  {
   "cell_type": "code",
   "execution_count": null,
   "metadata": {},
   "outputs": [],
   "source": [
    "print(\"Enter 'x' for exit.\");\n",
    "side = input(\"Enter side length of square: \");\n",
    "if side == 'x':\n",
    "    exit();\n",
    "else:\n",
    "    slength = int(side);\n",
    "    perimeter = 4*slength;\n",
    "    print(\"\\nPerimeter of Square =\", perimeter)"
   ]
  },
  {
   "cell_type": "code",
   "execution_count": null,
   "metadata": {},
   "outputs": [],
   "source": [
    "print(\"Enter 'x' for exit.\");\n",
    "rad = input(\"Enter radius of circle: \");\n",
    "if rad == 'x':\n",
    "    exit();\n",
    "else:\n",
    "    radius = float(rad);\n",
    "    circumference = 2*3.14*radius;\n",
    "    print(\"\\nCircumference of Circle =\",circumference);"
   ]
  },
  {
   "cell_type": "code",
   "execution_count": null,
   "metadata": {},
   "outputs": [],
   "source": [
    "a = float(input(\" Please Enter the First Value a: \"))\n",
    "b = float(input(\" Please Enter the Second Value b: \"))\n",
    "\n",
    "print(\"Before Swapping two Number: a = {0} and b = {1}\".format(a, b))\n",
    "\n",
    "temp = a\n",
    "a = b\n",
    "b = temp\n",
    "\n",
    "print(\"After Swapping two Number: a = {0} and b = {1}\".format(a, b))"
   ]
  }
 ],
 "metadata": {
  "kernelspec": {
   "display_name": "Python 3",
   "language": "python",
   "name": "python3"
  },
  "language_info": {
   "codemirror_mode": {
    "name": "ipython",
    "version": 3
   },
   "file_extension": ".py",
   "mimetype": "text/x-python",
   "name": "python",
   "nbconvert_exporter": "python",
   "pygments_lexer": "ipython3",
   "version": "3.8.3"
  }
 },
 "nbformat": 4,
 "nbformat_minor": 4
}
